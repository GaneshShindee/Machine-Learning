{
  "cells": [
    {
      "cell_type": "markdown",
      "metadata": {
        "id": "view-in-github",
        "colab_type": "text"
      },
      "source": [
        "<a href=\"https://colab.research.google.com/github/GaneshShindee/Machine-Learning/blob/main/Essentials_of_NumPy.ipynb\" target=\"_parent\"><img src=\"https://colab.research.google.com/assets/colab-badge.svg\" alt=\"Open In Colab\"/></a>"
      ]
    },
    {
      "cell_type": "markdown",
      "metadata": {
        "id": "IKAEpfaVVvh6"
      },
      "source": [
        "#Introduction\n",
        "NumPy is a powerful numerical computing library in Python. It provides support for arrays, matrices, and many mathematical functions. This notebook covers the essentials of NumPy, starting from the basics and gradually extending to more complex topics.\n",
        "\n",
        "###Table of Contents\n",
        "1. Introduction to NumPy\n",
        "2. NumPy Arrays\n",
        "  * Creating Arrays\n",
        "  * Array Indexing and Slicing\n",
        "  * Array Properties\n",
        "3. Array Operations\n",
        "  * Arithmetic Operations\n",
        "  * Universal Functions (ufuncs)\n",
        "  * Broadcasting\n",
        "4. Mathematical Functions\n",
        "  * Aggregation Functions\n",
        "  * Trigonometric Functions\n",
        "  * Exponential and Logarithmic Functions\n",
        "5. Random Numbers\n",
        "  * Random Number Generation\n",
        "  * Statistical Functions"
      ]
    },
    {
      "cell_type": "markdown",
      "metadata": {
        "id": "jpHwg9YNWaHj"
      },
      "source": [
        "#1. Introduction to NumPy\n",
        "\n",
        "NumPy (Numerical Python) is the foundational package for scientific computing in Python. It is highly efficient, providing support for large multi-dimensional arrays and matrices, along with a collection of mathematical functions to operate on these arrays.\n",
        "\n"
      ]
    },
    {
      "cell_type": "code",
      "execution_count": null,
      "metadata": {
        "colab": {
          "base_uri": "https://localhost:8080/"
        },
        "id": "o14QBPhDVqOI",
        "outputId": "debc70ac-faf7-479b-8aa9-526eef2fa862"
      },
      "outputs": [
        {
          "name": "stdout",
          "output_type": "stream",
          "text": [
            "NumPy version: 1.25.2\n"
          ]
        }
      ],
      "source": [
        "import numpy as np\n",
        "print(\"NumPy version:\", np.__version__)"
      ]
    },
    {
      "cell_type": "markdown",
      "metadata": {
        "id": "_JIbi4S8WfYj"
      },
      "source": [
        "#2. NumPy Arrays\n",
        "##Creating Arrays\n",
        "###2.1.1 From Python Lists"
      ]
    },
    {
      "cell_type": "code",
      "execution_count": null,
      "metadata": {
        "colab": {
          "base_uri": "https://localhost:8080/"
        },
        "id": "lV9AJxadWeBB",
        "outputId": "5a1b6273-5318-4c48-8731-c11f62039f7d"
      },
      "outputs": [
        {
          "name": "stdout",
          "output_type": "stream",
          "text": [
            "1D array: [1 2 3 4 5]\n",
            "2D array:\n",
            " [[1 2 3]\n",
            " [4 5 6]]\n"
          ]
        }
      ],
      "source": [
        "import numpy as np\n",
        "\n",
        "# Creating a 1D array from a list\n",
        "arr_1d = np.array([1, 2, 3, 4, 5])\n",
        "print(\"1D array:\", arr_1d)\n",
        "\n",
        "# Creating a 2D array from a list of lists\n",
        "arr_2d = np.array([[1, 2, 3], [4, 5, 6]])\n",
        "print(\"2D array:\\n\", arr_2d)"
      ]
    },
    {
      "cell_type": "markdown",
      "metadata": {
        "id": "MlDx1GFGWsSQ"
      },
      "source": [
        "###2.1.2 Using NumPy Functions\n"
      ]
    },
    {
      "cell_type": "code",
      "execution_count": null,
      "metadata": {
        "colab": {
          "base_uri": "https://localhost:8080/"
        },
        "id": "nAa0BdF6Wp6N",
        "outputId": "3450eb4b-b680-4cb9-af01-5945d2928cbb"
      },
      "outputs": [
        {
          "name": "stdout",
          "output_type": "stream",
          "text": [
            "Array of zeros:\n",
            " [[0. 0. 0.]\n",
            " [0. 0. 0.]\n",
            " [0. 0. 0.]]\n",
            "Array of ones:\n",
            " [[1. 1. 1. 1.]\n",
            " [1. 1. 1. 1.]]\n",
            "Array with a range of values: [0 2 4 6 8]\n",
            "Array of evenly spaced values: [0.   0.25 0.5  0.75 1.  ]\n"
          ]
        }
      ],
      "source": [
        "# Creating an array of zeros\n",
        "arr_zeros = np.zeros((3, 3))\n",
        "print(\"Array of zeros:\\n\", arr_zeros)\n",
        "\n",
        "# Creating an array of ones\n",
        "arr_ones = np.ones((2, 4))\n",
        "print(\"Array of ones:\\n\", arr_ones)\n",
        "\n",
        "# Creating an array with a range of values\n",
        "arr_range = np.arange(0, 10, 2)\n",
        "print(\"Array with a range of values:\", arr_range)\n",
        "\n",
        "# Creating an array of evenly spaced values\n",
        "arr_linspace = np.linspace(0, 1, 5)\n",
        "print(\"Array of evenly spaced values:\", arr_linspace)"
      ]
    },
    {
      "cell_type": "markdown",
      "metadata": {
        "id": "yo6piTQoWxcT"
      },
      "source": [
        "###2.1.3 From Functions\n"
      ]
    },
    {
      "cell_type": "code",
      "execution_count": null,
      "metadata": {
        "colab": {
          "base_uri": "https://localhost:8080/"
        },
        "id": "owxSA2bBWvKZ",
        "outputId": "c3a02ba4-2025-4443-808f-792f2ed3d77c"
      },
      "outputs": [
        {
          "name": "stdout",
          "output_type": "stream",
          "text": [
            "Array from function:\n",
            " [[0 1 2]\n",
            " [1 2 3]\n",
            " [2 3 4]]\n"
          ]
        }
      ],
      "source": [
        "# Creating an array from a function\n",
        "arr_from_function = np.fromfunction(lambda i, j: i + j, (3, 3), dtype=int)\n",
        "print(\"Array from function:\\n\", arr_from_function)"
      ]
    },
    {
      "cell_type": "markdown",
      "metadata": {
        "id": "dXACa-O8W54r"
      },
      "source": [
        "##Array Indexing and Slicing\n",
        "###2.2.1 Indexing\n"
      ]
    },
    {
      "cell_type": "code",
      "execution_count": null,
      "metadata": {
        "colab": {
          "base_uri": "https://localhost:8080/"
        },
        "id": "UGxywjUBW0GY",
        "outputId": "27517054-fd08-4fec-f0ce-3c78a63c1203"
      },
      "outputs": [
        {
          "name": "stdout",
          "output_type": "stream",
          "text": [
            "First element: 1\n",
            "Last element: 5\n",
            "Element at (0,1): 2\n",
            "Element at (1,2): 6\n"
          ]
        }
      ],
      "source": [
        "# Accessing elements in a 1D array\n",
        "print(\"First element:\", arr_1d[0])\n",
        "print(\"Last element:\", arr_1d[-1])\n",
        "\n",
        "# Accessing elements in a 2D array\n",
        "print(\"Element at (0,1):\", arr_2d[0, 1])\n",
        "print(\"Element at (1,2):\", arr_2d[1, 2])"
      ]
    },
    {
      "cell_type": "markdown",
      "metadata": {
        "id": "iaLE7r-RXAyh"
      },
      "source": [
        "###2.2.2 Slicing\n"
      ]
    },
    {
      "cell_type": "code",
      "execution_count": null,
      "metadata": {
        "colab": {
          "base_uri": "https://localhost:8080/"
        },
        "id": "CE9iGBzQW-ZA",
        "outputId": "debd83c1-c695-4706-85ae-5a1b383a0f6a"
      },
      "outputs": [
        {
          "name": "stdout",
          "output_type": "stream",
          "text": [
            "Sliced 1D array: [20 30 40]\n",
            "Sliced 2D array:\n",
            " [[20 30]\n",
            " [50 60]\n",
            " [80 90]]\n"
          ]
        }
      ],
      "source": [
        "# Slicing a 1D array\n",
        "print(\"Sliced 1D array:\", arr_1d[1:4])\n",
        "\n",
        "# Slicing a 2D array\n",
        "print(\"Sliced 2D array:\\n\", arr_2d[:, 1:3])"
      ]
    },
    {
      "cell_type": "code",
      "source": [],
      "metadata": {
        "id": "IF4xUPwhX4t9"
      },
      "execution_count": null,
      "outputs": []
    },
    {
      "cell_type": "code",
      "execution_count": null,
      "metadata": {
        "id": "2vSV_ip_Wo_t",
        "outputId": "63e7c469-e130-4fe7-9426-e948e1e97275"
      },
      "outputs": [
        {
          "name": "stdout",
          "output_type": "stream",
          "text": [
            "Sliced 1D array: [20 30 40]\n",
            "Sliced 2D array:\n",
            " [[20 30]\n",
            " [50 60]\n",
            " [80 90]]\n"
          ]
        }
      ],
      "source": [
        "import numpy as np\n",
        "\n",
        "# Example 1D array\n",
        "arr_1d = np.array([10, 20, 30, 40, 50])\n",
        "print(\"Sliced 1D array:\", arr_1d[1:4])\n",
        "\n",
        "# Example 2D array\n",
        "arr_2d = np.array([[10, 20, 30],\n",
        "                   [40, 50, 60],\n",
        "                   [70, 80, 90]])\n",
        "print(\"Sliced 2D array:\\n\", arr_2d[:, 1:3])\n"
      ]
    },
    {
      "cell_type": "markdown",
      "metadata": {
        "id": "bDCdKKgfXHRY"
      },
      "source": [
        "##Array Properties\n"
      ]
    },
    {
      "cell_type": "code",
      "execution_count": null,
      "metadata": {
        "colab": {
          "base_uri": "https://localhost:8080/"
        },
        "id": "iaIV3M34XL4J",
        "outputId": "8301b4d7-6dc2-49ff-fbe4-623102b97fae"
      },
      "outputs": [
        {
          "name": "stdout",
          "output_type": "stream",
          "text": [
            "Shape of 1D array: (5,)\n",
            "Shape of 2D array: (3, 3)\n",
            "Number of dimensions of 1D array: 1\n",
            "Number of dimensions of 2D array: 2\n",
            "Size of 1D array: 5\n",
            "Size of 2D array: 9\n",
            "Data type of 1D array: int32\n",
            "Data type of 2D array: int32\n"
          ]
        }
      ],
      "source": [
        "# Shape of the array\n",
        "print(\"Shape of 1D array:\", arr_1d.shape)\n",
        "print(\"Shape of 2D array:\", arr_2d.shape)\n",
        "\n",
        "# Number of dimensions\n",
        "print(\"Number of dimensions of 1D array:\", arr_1d.ndim)\n",
        "print(\"Number of dimensions of 2D array:\", arr_2d.ndim)\n",
        "\n",
        "# Size of the array (number of elements)\n",
        "print(\"Size of 1D array:\", arr_1d.size)\n",
        "print(\"Size of 2D array:\", arr_2d.size)\n",
        "\n",
        "# Data type of the elements\n",
        "print(\"Data type of 1D array:\", arr_1d.dtype)\n",
        "print(\"Data type of 2D array:\", arr_2d.dtype)\n"
      ]
    },
    {
      "cell_type": "markdown",
      "metadata": {
        "id": "J4Vme89yXS_9"
      },
      "source": [
        "#3. Array Operations\n",
        "##Arithmetic Operations\n"
      ]
    },
    {
      "cell_type": "code",
      "execution_count": null,
      "metadata": {
        "colab": {
          "base_uri": "https://localhost:8080/"
        },
        "id": "m2KdGgBiXShX",
        "outputId": "86c86da9-dec3-4ab7-d864-5fdcc3d50502"
      },
      "outputs": [
        {
          "name": "stdout",
          "output_type": "stream",
          "text": [
            "Addition: [5 7 9]\n",
            "Subtraction: [-3 -3 -3]\n",
            "Multiplication: [ 4 10 18]\n",
            "Division: [0.25 0.4  0.5 ]\n"
          ]
        }
      ],
      "source": [
        "arr_a = np.array([1, 2, 3])\n",
        "arr_b = np.array([4, 5, 6])\n",
        "\n",
        "# Addition\n",
        "print(\"Addition:\", arr_a + arr_b)\n",
        "\n",
        "# Subtraction\n",
        "print(\"Subtraction:\", arr_a - arr_b)\n",
        "\n",
        "# Multiplication\n",
        "print(\"Multiplication:\", arr_a * arr_b)\n",
        "\n",
        "# Division\n",
        "print(\"Division:\", arr_a / arr_b)"
      ]
    },
    {
      "cell_type": "markdown",
      "metadata": {
        "id": "nzgA2hJ0XaZA"
      },
      "source": [
        "##Universal Functions (ufuncs)\n"
      ]
    },
    {
      "cell_type": "code",
      "execution_count": null,
      "metadata": {
        "colab": {
          "base_uri": "https://localhost:8080/"
        },
        "id": "na4Sglt7XPkZ",
        "outputId": "37e0100a-c477-495c-91fd-e53482b298d7"
      },
      "outputs": [
        {
          "name": "stdout",
          "output_type": "stream",
          "text": [
            "Square root: [1.         1.41421356 1.73205081]\n",
            "Exponential: [ 2.71828183  7.3890561  20.08553692]\n",
            "Sine: [0.84147098 0.90929743 0.14112001]\n"
          ]
        }
      ],
      "source": [
        "# Square root\n",
        "print(\"Square root:\", np.sqrt(arr_a))\n",
        "\n",
        "# Exponential\n",
        "print(\"Exponential:\", np.exp(arr_a))\n",
        "\n",
        "# Sine\n",
        "print(\"Sine:\", np.sin(arr_a))"
      ]
    },
    {
      "cell_type": "markdown",
      "metadata": {
        "id": "gOd6DLDcXfr4"
      },
      "source": [
        "##Broadcasting\n"
      ]
    },
    {
      "cell_type": "code",
      "execution_count": null,
      "metadata": {
        "colab": {
          "base_uri": "https://localhost:8080/"
        },
        "id": "d6YBWtU4Xdkl",
        "outputId": "6d4e05bf-d1ce-43e9-aabb-f57b33c6ca59"
      },
      "outputs": [
        {
          "name": "stdout",
          "output_type": "stream",
          "text": [
            "Broadcasting with scalar:\n",
            " [[11 12 13]\n",
            " [14 15 16]]\n",
            "Broadcasting with 1D array:\n",
            " [[2 4 6]\n",
            " [5 7 9]]\n"
          ]
        }
      ],
      "source": [
        "arr_c = np.array([[1, 2, 3], [4, 5, 6]])\n",
        "\n",
        "# Broadcasting with a scalar\n",
        "print(\"Broadcasting with scalar:\\n\", arr_c + 10)\n",
        "\n",
        "# Broadcasting with a 1D array\n",
        "arr_d = np.array([1, 2, 3])\n",
        "print(\"Broadcasting with 1D array:\\n\", arr_c + arr_d)\n"
      ]
    },
    {
      "cell_type": "markdown",
      "metadata": {
        "id": "phIuxSNmXiwi"
      },
      "source": [
        "#4. Mathematical Functions\n",
        "##Aggregation Functions\n"
      ]
    },
    {
      "cell_type": "code",
      "execution_count": null,
      "metadata": {
        "colab": {
          "base_uri": "https://localhost:8080/"
        },
        "id": "WmvYjwkKXh0B",
        "outputId": "3a3d612e-4471-4ec9-b6b1-6df0035d31a2"
      },
      "outputs": [
        {
          "name": "stdout",
          "output_type": "stream",
          "text": [
            "Sum: 21\n",
            "Mean: 3.5\n",
            "Standard Deviation: 1.707825127659933\n"
          ]
        }
      ],
      "source": [
        "# Sum\n",
        "print(\"Sum:\", np.sum(arr_c))\n",
        "\n",
        "# Mean\n",
        "print(\"Mean:\", np.mean(arr_c))\n",
        "\n",
        "# Standard Deviation\n",
        "print(\"Standard Deviation:\", np.std(arr_c))"
      ]
    },
    {
      "cell_type": "markdown",
      "metadata": {
        "id": "DIewLXl6XqT7"
      },
      "source": [
        "##Trigonometric Functions\n"
      ]
    },
    {
      "cell_type": "code",
      "execution_count": null,
      "metadata": {
        "colab": {
          "base_uri": "https://localhost:8080/"
        },
        "id": "dokD8tfsXoLn",
        "outputId": "7dee8639-2245-4b39-eee1-3296f6f07696"
      },
      "outputs": [
        {
          "name": "stdout",
          "output_type": "stream",
          "text": [
            "Sine of pi/2: 1.0\n",
            "Cosine of pi: -1.0\n"
          ]
        }
      ],
      "source": [
        "# Sine\n",
        "print(\"Sine of pi/2:\", np.sin(np.pi/2))\n",
        "\n",
        "# Cosine\n",
        "print(\"Cosine of pi:\", np.cos(np.pi))"
      ]
    },
    {
      "cell_type": "markdown",
      "metadata": {
        "id": "8Hxs_SP2XtHQ"
      },
      "source": [
        "##Exponential and Logarithmic Functions\n"
      ]
    },
    {
      "cell_type": "code",
      "execution_count": null,
      "metadata": {
        "colab": {
          "base_uri": "https://localhost:8080/"
        },
        "id": "KUWOftlRXsMA",
        "outputId": "ea7a5662-ad0f-4d0b-87a2-298ef7eda575"
      },
      "outputs": [
        {
          "name": "stdout",
          "output_type": "stream",
          "text": [
            "Exponential of 1: 2.718281828459045\n",
            "Natural log of e: 1.0\n",
            "Log base 10 of 100: 2.0\n"
          ]
        }
      ],
      "source": [
        "# Exponential\n",
        "print(\"Exponential of 1:\", np.exp(1))\n",
        "\n",
        "# Natural logarithm\n",
        "print(\"Natural log of e:\", np.log(np.e))\n",
        "\n",
        "# Base-10 logarithm\n",
        "print(\"Log base 10 of 100:\", np.log10(100))"
      ]
    },
    {
      "cell_type": "markdown",
      "metadata": {
        "id": "yoTuJg1EXybY"
      },
      "source": [
        "#5. Random Numbers\n",
        "##Random Number Generation\n",
        "\n"
      ]
    },
    {
      "cell_type": "code",
      "execution_count": null,
      "metadata": {
        "colab": {
          "base_uri": "https://localhost:8080/"
        },
        "id": "XxjfiW3XXwm8",
        "outputId": "8376e6fc-afc3-4ce0-ee66-8393dc091cf6"
      },
      "outputs": [
        {
          "name": "stdout",
          "output_type": "stream",
          "text": [
            "Random integers:\n",
            " [[4 2 6]\n",
            " [7 4 2]\n",
            " [5 4 2]]\n",
            "Random floats:\n",
            " [[0.68665301 0.12294257 0.69137213]\n",
            " [0.97528824 0.4463305  0.43416095]\n",
            " [0.13571107 0.04538699 0.99464257]]\n",
            "Random normal distribution:\n",
            " [[-0.78604876  0.91961384 -1.16038452]\n",
            " [-0.39311416  0.71023339  0.16629424]\n",
            " [ 0.90152279 -0.20351894  0.44100664]]\n"
          ]
        }
      ],
      "source": [
        "# Random integers\n",
        "rand_ints = np.random.randint(1, 10, size=(3, 3))\n",
        "print(\"Random integers:\\n\", rand_ints)\n",
        "\n",
        "# Random floats\n",
        "rand_floats = np.random.rand(3, 3)\n",
        "print(\"Random floats:\\n\", rand_floats)\n",
        "\n",
        "# Random normal distribution\n",
        "rand_normal = np.random.randn(3, 3)\n",
        "print(\"Random normal distribution:\\n\", rand_normal)"
      ]
    },
    {
      "cell_type": "markdown",
      "metadata": {
        "id": "3tzp9HMyYBNm"
      },
      "source": [
        "##Statistical Functions\n"
      ]
    },
    {
      "cell_type": "code",
      "execution_count": null,
      "metadata": {
        "colab": {
          "base_uri": "https://localhost:8080/"
        },
        "id": "z7_1ac7IX-D1",
        "outputId": "be6c845b-96e5-4a22-fb93-78a1f737cfec"
      },
      "outputs": [
        {
          "name": "stdout",
          "output_type": "stream",
          "text": [
            "Mean of random normal distribution: 0.06617827860357489\n",
            "Standard deviation of random normal distribution: 0.7075711640678294\n"
          ]
        }
      ],
      "source": [
        "# Mean of random normal distribution\n",
        "print(\"Mean of random normal distribution:\", np.mean(rand_normal))\n",
        "\n",
        "# Standard deviation of random normal distribution\n",
        "print(\"Standard deviation of random normal distribution:\", np.std(rand_normal))"
      ]
    }
  ],
  "metadata": {
    "colab": {
      "provenance": [],
      "include_colab_link": true
    },
    "kernelspec": {
      "display_name": "Python 3",
      "name": "python3"
    },
    "language_info": {
      "codemirror_mode": {
        "name": "ipython",
        "version": 3
      },
      "file_extension": ".py",
      "mimetype": "text/x-python",
      "name": "python",
      "nbconvert_exporter": "python",
      "pygments_lexer": "ipython3",
      "version": "3.12.4"
    }
  },
  "nbformat": 4,
  "nbformat_minor": 0
}